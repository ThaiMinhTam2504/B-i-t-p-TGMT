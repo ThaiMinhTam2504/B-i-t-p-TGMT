{
 "cells": [
  {
   "cell_type": "code",
   "execution_count": 11,
   "id": "e074408f-2caa-452c-b685-5b58b959d618",
   "metadata": {},
   "outputs": [],
   "source": [
    "import cv2"
   ]
  },
  {
   "cell_type": "code",
   "execution_count": 12,
   "id": "f2812468-4464-4411-9c3c-4322d9e160af",
   "metadata": {},
   "outputs": [],
   "source": [
    "\n",
    "# Đọc video từ file\n",
    "my_video = cv2.VideoCapture('C:/Users/ADMIN/Videos/Roblox/test.mp4')"
   ]
  },
  {
   "cell_type": "code",
   "execution_count": 13,
   "id": "726dcc87-f98b-483a-ab7b-0e22994be29b",
   "metadata": {},
   "outputs": [],
   "source": [
    "# Tạo cửa sổ để hiển thị\n",
    "cv2.namedWindow('Video Player', cv2.WINDOW_NORMAL)"
   ]
  },
  {
   "cell_type": "code",
   "execution_count": 14,
   "id": "b0f5ab89-4c4a-4e6e-b3cc-03671068fea0",
   "metadata": {},
   "outputs": [],
   "source": [
    "# Hiển thị từng khung ảnh\n",
    "while True:\n",
    "    # Đọc 1 frame\n",
    "    ret, frame = my_video.read()\n",
    "    \n",
    "    # Thoát khi không thể đọc được frame\n",
    "    if not ret:\n",
    "        break\n",
    "    \n",
    "    # Hiển thị\n",
    "    cv2.imshow('Video Player', frame)\n",
    "    \n",
    "    if(cv2.waitKey(10)==ord('q')):\n",
    "        break"
   ]
  },
  {
   "cell_type": "code",
   "execution_count": 15,
   "id": "0030f23f-2988-439f-81d7-5e2a644035de",
   "metadata": {},
   "outputs": [],
   "source": [
    "# Hủy bỏ player\n",
    "my_video.release\n",
    "cv2.destroyAllWindows()"
   ]
  },
  {
   "cell_type": "code",
   "execution_count": null,
   "id": "72089e43-16af-44a8-99e4-cc1584d53610",
   "metadata": {},
   "outputs": [],
   "source": []
  }
 ],
 "metadata": {
  "kernelspec": {
   "display_name": "Python 3 (ipykernel)",
   "language": "python",
   "name": "python3"
  },
  "language_info": {
   "codemirror_mode": {
    "name": "ipython",
    "version": 3
   },
   "file_extension": ".py",
   "mimetype": "text/x-python",
   "name": "python",
   "nbconvert_exporter": "python",
   "pygments_lexer": "ipython3",
   "version": "3.12.4"
  }
 },
 "nbformat": 4,
 "nbformat_minor": 5
}
