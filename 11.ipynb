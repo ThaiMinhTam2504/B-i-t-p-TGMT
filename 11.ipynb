{
 "cells": [
  {
   "cell_type": "code",
   "execution_count": 1,
   "id": "dc1252be-a43c-4529-8dd1-c931ead5bf56",
   "metadata": {},
   "outputs": [],
   "source": [
    "import  numpy as np"
   ]
  },
  {
   "cell_type": "code",
   "execution_count": 2,
   "id": "4dc32fa1-c443-4d24-b800-8d1160c01e63",
   "metadata": {},
   "outputs": [
    {
     "name": "stdout",
     "output_type": "stream",
     "text": [
      "[1 2 3]\n"
     ]
    }
   ],
   "source": [
    "#tạo mảng\n",
    "a = np.array([1,2,3])\n",
    "#In mảng\n",
    "print(a)\n"
   ]
  },
  {
   "cell_type": "code",
   "execution_count": 3,
   "id": "75b7784d-abb6-4eb2-9198-120d8bbb4a37",
   "metadata": {},
   "outputs": [
    {
     "name": "stdout",
     "output_type": "stream",
     "text": [
      "2\n"
     ]
    }
   ],
   "source": [
    "#in ra 1 phần tử\n",
    "element= a[1]\n",
    "print(element)"
   ]
  },
  {
   "cell_type": "code",
   "execution_count": 8,
   "id": "d81c7b9e-ba21-4fb5-91e5-db686489e309",
   "metadata": {},
   "outputs": [
    {
     "name": "stdout",
     "output_type": "stream",
     "text": [
      "Matrix:\n",
      "[[1 2 3]\n",
      " [4 5 6]\n",
      " [7 8 9]]\n",
      "6\n"
     ]
    }
   ],
   "source": [
    "#tạo mảng 2 chiều (mảng trong mảng)\n",
    "matrix = np.array([[1,2,3], [4,5,6],[7,8,9]])\n",
    "print(\"Matrix:\")\n",
    "print(matrix)\n",
    "\n",
    "#in một phần từ trong matrix\n",
    "element= matrix[1,2] #hàng 1 cột 2 đếm từ 0  hàng 1 là mảng [4 5 6] cột 2 là [3 6 9]\n",
    "print(element)"
   ]
  },
  {
   "cell_type": "code",
   "execution_count": 17,
   "id": "71f48d0d-f7ac-4525-b1d1-0efbcc3df8a9",
   "metadata": {},
   "outputs": [
    {
     "name": "stdout",
     "output_type": "stream",
     "text": [
      "[0. 0. 0. 0. 0. 0.]\n",
      "[1. 1. 1. 1. 1. 1.]\n",
      "[ 0  1  2  3  4  5  6  7  8  9 10 11 12 13 14 15 16 17 18 19 20 21 22 23\n",
      " 24 25 26 27 28 29 30 31 32 33 34 35 36 37 38 39 40 41 42 43 44 45 46 47\n",
      " 48 49 50 51 52 53 54 55 56 57 58 59 60 61 62 63 64 65 66 67 68 69 70 71\n",
      " 72 73 74 75 76 77 78 79 80 81 82 83 84 85 86 87 88 89 90 91 92 93 94 95\n",
      " 96 97 98 99]\n",
      "[ 0.   2.5  5.   7.5 10. ]\n",
      "[1 1 1 1 1]\n"
     ]
    }
   ],
   "source": [
    "#cách tạo mảng\n",
    "#tạo mảng toàn là số 0\n",
    "a = np.zeros(6)\n",
    "print(a)\n",
    "#tạo mảng toàn là số 1\n",
    "a = np.ones(6)\n",
    "print(a)\n",
    "#tạo mảng\n",
    "a = np.empty(6)\n",
    "#tạo mảng từ 0 đến 100\n",
    "a=np.arange(100)\n",
    "print(a)\n",
    "#tạo mảng các phần tử với khoảng cách đều nhau\n",
    "a = np.linspace(0,10,num=5)\n",
    "print(a)\n",
    "#xác định kiểu dữ liệu\n",
    "a = np.ones(5,dtype=np.int64)\n",
    "print(a)"
   ]
  },
  {
   "cell_type": "code",
   "execution_count": 21,
   "id": "1c240c14-1448-4c7e-a5c8-8e3fbef0b775",
   "metadata": {},
   "outputs": [
    {
     "name": "stdout",
     "output_type": "stream",
     "text": [
      "[3 1 2 4 5]\n",
      "[1 2 3 4 5]\n",
      "[5 4 3 2 1]\n",
      "[  5   4   3   2   1 100]\n"
     ]
    }
   ],
   "source": [
    "#thêm , xõa , sắp xếp mảng\n",
    "#tạo mảng ban đầu\n",
    "arr=np.array([3,1,2,4,5])\n",
    "print(arr)\n",
    "#sắp xếp\n",
    "arr=np.sort(arr)\n",
    "print(arr)\n",
    "#sắp xếp ngược\n",
    "arr=np.sort(arr)[::-1]\n",
    "print(arr)\n",
    "#thêm phần tử vào mảng\n",
    "arr=np.append(arr,100)\n",
    "print(arr)"
   ]
  },
  {
   "cell_type": "code",
   "execution_count": 23,
   "id": "8b765ab7-21d0-450d-aba1-8a447cb0338b",
   "metadata": {},
   "outputs": [
    {
     "name": "stdout",
     "output_type": "stream",
     "text": [
      "[[1 2 3]\n",
      " [4 6 8]\n",
      " [5 7 9]]\n",
      "[[3 1 2]\n",
      " [4 6 5]\n",
      " [9 7 8]]\n"
     ]
    }
   ],
   "source": [
    "#tạo 1 mảng 2 chiều\n",
    "arr=np.array([[3,1,2],[4,6,8],[9,7,5]])\n",
    "sap_xep_theo_hang=np.sort(arr,axis=1) #tăng dần\n",
    "print(sap_xep_theo_hang)\n",
    "sap_xep_theo_cot=np.sort(arr,axis=0) #tăng dần\n",
    "print(sap_xep_theo_cot)"
   ]
  },
  {
   "cell_type": "code",
   "execution_count": 26,
   "id": "c4b87f2a-d4df-43a2-9a93-8f992c2ef4f7",
   "metadata": {},
   "outputs": [
    {
     "name": "stdout",
     "output_type": "stream",
     "text": [
      "[[3 2 1]\n",
      " [8 6 4]\n",
      " [9 7 5]]\n",
      "[[9 7 8]\n",
      " [4 6 5]\n",
      " [3 1 2]]\n"
     ]
    }
   ],
   "source": [
    "#tạo 1 mảng 2 chiều\n",
    "arr=np.array([[3,1,2],[4,6,8],[9,7,5]])\n",
    "sap_xep_theo_hang=-np.sort(-arr,axis=1) #giảm dần\n",
    "print(sap_xep_theo_hang)\n",
    "sap_xep_theo_cot=-np.sort(-arr,axis=0) # giảm dần\n",
    "print(sap_xep_theo_cot)"
   ]
  },
  {
   "cell_type": "code",
   "execution_count": 27,
   "id": "94958506-0689-4126-9724-98c003cadb0a",
   "metadata": {},
   "outputs": [
    {
     "name": "stdout",
     "output_type": "stream",
     "text": [
      "số chiều: 2\n",
      "kích thước: 6\n",
      "hình dạng: (2, 3)\n"
     ]
    }
   ],
   "source": [
    "#tạo 1 mảng 2D\n",
    "arr=np.array([[1,2,3],[4,5,6]])\n",
    "#sử dụng các thuộc tính để lấy thông tin về mảng\n",
    "so_chieu=arr.ndim #số chiều (2 chiều)\n",
    "kich_thuoc=arr.size #kích thước (tổng số phần tử, 6)\n",
    "hinh_dang=arr.shape #hình dạng (số hàng x số cột, (2,3) 2 hảng 3 cột)\n",
    "print(\"số chiều:\",so_chieu)\n",
    "print(\"kích thước:\",kich_thuoc)\n",
    "print(\"hình dạng:\",hinh_dang)"
   ]
  },
  {
   "cell_type": "code",
   "execution_count": 28,
   "id": "ea9dfbc7-7d1e-45ed-a291-0b9cc953c179",
   "metadata": {},
   "outputs": [
    {
     "name": "stdout",
     "output_type": "stream",
     "text": [
      "[1. 2. 3. 4. 5.]\n"
     ]
    }
   ],
   "source": [
    "#chuyển đổi kiểu dữ liệu\n",
    "arr=np.array([1,2,3,4,5])\n",
    "arr_float=arr.astype(float)\n",
    "print(arr_float)"
   ]
  },
  {
   "cell_type": "code",
   "execution_count": 29,
   "id": "e43f0352-30a0-4ec6-8459-eacabb7ea5b7",
   "metadata": {},
   "outputs": [
    {
     "name": "stdout",
     "output_type": "stream",
     "text": [
      "[[1 2 3]\n",
      " [4 5 6]]\n",
      "[[1 2]\n",
      " [3 4]\n",
      " [5 6]]\n"
     ]
    }
   ],
   "source": [
    "#thay đổi hình dạng của mảng\n",
    "arr=np.array([1,2,3,4,5,6])\n",
    "reshaped_arr=arr.reshape(2,3)\n",
    "print(reshaped_arr)\n",
    "reshaped_arr=arr.reshape(3,2)\n",
    "print(reshaped_arr)"
   ]
  },
  {
   "cell_type": "code",
   "execution_count": 30,
   "id": "fb165bca-7305-4cec-a6b4-db7a25d40e72",
   "metadata": {},
   "outputs": [
    {
     "name": "stdout",
     "output_type": "stream",
     "text": [
      "[1 2 3 4 5 6]\n"
     ]
    }
   ],
   "source": [
    "reshaped_arr=reshaped_arr.flatten() #chuyển thành mảng 1 chiều\n",
    "print(reshaped_arr)"
   ]
  },
  {
   "cell_type": "code",
   "execution_count": 35,
   "id": "ca437b4e-7532-4547-bbd3-67b881d395b3",
   "metadata": {},
   "outputs": [
    {
     "name": "stdout",
     "output_type": "stream",
     "text": [
      "[2 3 4]\n",
      "[1 2 3 4]\n",
      "[4 5]\n"
     ]
    }
   ],
   "source": [
    "#cắt lát mảng\n",
    "arr=np.array([1,2,3,4,5])\n",
    "sub_arr=arr[1:4] #cắt từ phần tử thứ 1 đến 4\n",
    "print(sub_arr)\n",
    "sub_arr=arr[:-1]\n",
    "print(sub_arr)\n",
    "sub_arr=arr[-2:]\n",
    "print(sub_arr)"
   ]
  },
  {
   "cell_type": "code",
   "execution_count": 36,
   "id": "cf55c2d9-efbe-4e61-81e6-8959fb131e50",
   "metadata": {},
   "outputs": [
    {
     "name": "stdout",
     "output_type": "stream",
     "text": [
      "[[1 2 3]\n",
      " [4 5 6]]\n",
      "[[1 4]\n",
      " [2 5]\n",
      " [3 6]]\n"
     ]
    }
   ],
   "source": [
    "# Chuyển vị mảng\n",
    "arr = np.array([[1, 2, 3], [4, 5, 6]])\n",
    "print(arr)\n",
    "# Để chuyển vị mảng, chúng ta có thể sử dụng .T hoặc hàm numpy.transpose().\n",
    "transposed_arr = arr.T\n",
    "print(transposed_arr)"
   ]
  },
  {
   "cell_type": "code",
   "execution_count": 37,
   "id": "f4c85273-543a-43f2-a819-db17670c98e9",
   "metadata": {},
   "outputs": [
    {
     "name": "stdout",
     "output_type": "stream",
     "text": [
      "[1 2 3 4 5 6]\n"
     ]
    }
   ],
   "source": [
    "# Nối mảng\n",
    "arr1 = np.array([1, 2, 3])\n",
    "arr2 = np.array([4, 5, 6])\n",
    "arr = np.concatenate((arr1, arr2))\n",
    "print(arr)"
   ]
  },
  {
   "cell_type": "code",
   "execution_count": 38,
   "id": "a89c47aa-55c3-4030-b296-e089d41898bb",
   "metadata": {},
   "outputs": [
    {
     "name": "stdout",
     "output_type": "stream",
     "text": [
      "Tổng của mảng arr: 15\n",
      "Giá trị trung bình của mảng arr: 3.0\n",
      "Giá trị lớn nhất trong mảng arr: 5\n",
      "Giá trị nhỏ nhất trong mảng arr: 1\n",
      "Độ lệch chuẩn của mảng arr: 1.4142135623730951\n",
      "Phương sai của mảng arr: 2.0\n",
      "Tổng tích chập của arr1 và arr2: 32\n"
     ]
    }
   ],
   "source": [
    "# II. Hàm tính tổng (Sum)\n",
    "# - Hàm numpy.sum() cho phép tính tổng các phần tử trong mảng.\n",
    "arr = np.array([1, 2, 3, 4, 5])\n",
    "total = np.sum(arr)\n",
    "print(\"Tổng của mảng arr:\", total)\n",
    "\n",
    "# III. Hàm tính trung bình (Mean)\n",
    "# - Hàm numpy.mean() tính giá trị trung bình của các phần tử trong mảng.\n",
    "average = np.mean(arr)\n",
    "print(\"Giá trị trung bình của mảng arr:\", average)\n",
    "\n",
    "# IV. Hàm tìm giá trị lớn nhất và nhỏ nhất (Max và Min)\n",
    "# - Hàm numpy.max() và numpy.min() dùng để tìm giá trị lớn nhất và nhỏ nhất trong mảng.\n",
    "max_value = np.max(arr)\n",
    "min_value = np.min(arr)\n",
    "print(\"Giá trị lớn nhất trong mảng arr:\", max_value)\n",
    "print(\"Giá trị nhỏ nhất trong mảng arr:\", min_value)\n",
    "\n",
    "# V. Hàm tính độ lệch chuẩn (Standard Deviation)\n",
    "# - Hàm numpy.std() tính độ lệch chuẩn của mảng, đo lường mức độ phân tán của dữ liệu.\n",
    "std_deviation = np.std(arr)\n",
    "print(\"Độ lệch chuẩn của mảng arr:\", std_deviation)\n",
    "\n",
    "# VI. Hàm tính phương sai (Variance)\n",
    "# - Hàm numpy.var() tính phương sai của mảng, đo lường mức độ biến thiên của dữ liệu.\n",
    "variance = np.var(arr)\n",
    "print(\"Phương sai của mảng arr:\", variance)\n",
    "\n",
    "# VII. Hàm tính tổng tích chập (Dot Product)\n",
    "# - Hàm numpy.dot() tính tổng tích chập của hai mảng (vector).\n",
    "arr1 = np.array([1, 2, 3])\n",
    "arr2 = np.array([4, 5, 6])\n",
    "dot_product = np.dot(arr1, arr2)\n",
    "print(\"Tổng tích chập của arr1 và arr2:\", dot_product)"
   ]
  },
  {
   "cell_type": "code",
   "execution_count": null,
   "id": "d87a91e5-6702-4dc5-9124-5357ee868cf6",
   "metadata": {},
   "outputs": [],
   "source": []
  }
 ],
 "metadata": {
  "kernelspec": {
   "display_name": "Python 3 (ipykernel)",
   "language": "python",
   "name": "python3"
  },
  "language_info": {
   "codemirror_mode": {
    "name": "ipython",
    "version": 3
   },
   "file_extension": ".py",
   "mimetype": "text/x-python",
   "name": "python",
   "nbconvert_exporter": "python",
   "pygments_lexer": "ipython3",
   "version": "3.12.4"
  }
 },
 "nbformat": 4,
 "nbformat_minor": 5
}
