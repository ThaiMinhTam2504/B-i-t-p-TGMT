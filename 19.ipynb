{
 "cells": [
  {
   "cell_type": "code",
   "execution_count": 1,
   "id": "7123aad4-d012-40b5-8ef0-e3570ede09ad",
   "metadata": {},
   "outputs": [
    {
     "name": "stdout",
     "output_type": "stream",
     "text": [
      "Defaulting to user installation because normal site-packages is not writeable\n",
      "Requirement already satisfied: opencv-python in c:\\users\\admin\\appdata\\roaming\\python\\python312\\site-packages (4.10.0.84)\n",
      "Requirement already satisfied: numpy>=1.21.2 in c:\\programdata\\anaconda3\\lib\\site-packages (from opencv-python) (1.26.4)\n"
     ]
    }
   ],
   "source": [
    "!pip install opencv-python"
   ]
  },
  {
   "cell_type": "code",
   "execution_count": 24,
   "id": "cbf71032-b980-421c-aa16-a806ff70cd60",
   "metadata": {},
   "outputs": [],
   "source": [
    "def display(title, img):\n",
    "    cv2.imshow(title,img)\n",
    "    cv2.waitKey(0)\n",
    "    cv2.destroyWindow(title)"
   ]
  },
  {
   "cell_type": "code",
   "execution_count": 25,
   "id": "a52ddbec-a7af-405f-9b50-9d7c63eb5910",
   "metadata": {},
   "outputs": [],
   "source": [
    "#import thư viện\n",
    "import cv2"
   ]
  },
  {
   "cell_type": "code",
   "execution_count": 33,
   "id": "c0292ab2-ce35-47d0-8f08-da87c48efeb4",
   "metadata": {},
   "outputs": [
    {
     "name": "stdout",
     "output_type": "stream",
     "text": [
      "[[[49  5 11]\n",
      "  [49  5 11]\n",
      "  [49  5 11]\n",
      "  ...\n",
      "  [30  5  1]\n",
      "  [30  5  1]\n",
      "  [30  5  1]]\n",
      "\n",
      " [[49  5 11]\n",
      "  [49  5 11]\n",
      "  [49  5 11]\n",
      "  ...\n",
      "  [30  5  1]\n",
      "  [30  5  1]\n",
      "  [30  5  1]]\n",
      "\n",
      " [[49  5 11]\n",
      "  [49  5 11]\n",
      "  [49  5 11]\n",
      "  ...\n",
      "  [32  5  1]\n",
      "  [30  5  1]\n",
      "  [30  5  1]]\n",
      "\n",
      " ...\n",
      "\n",
      " [[33 44 58]\n",
      "  [41 52 66]\n",
      "  [47 60 76]\n",
      "  ...\n",
      "  [27 57 68]\n",
      "  [27 57 68]\n",
      "  [26 56 67]]\n",
      "\n",
      " [[19 30 44]\n",
      "  [25 36 50]\n",
      "  [29 42 58]\n",
      "  ...\n",
      "  [24 54 65]\n",
      "  [24 54 65]\n",
      "  [23 53 64]]\n",
      "\n",
      " [[ 8 19 33]\n",
      "  [13 24 38]\n",
      "  [14 27 43]\n",
      "  ...\n",
      "  [ 0 29 40]\n",
      "  [ 0 28 39]\n",
      "  [ 0 28 39]]]\n"
     ]
    }
   ],
   "source": [
    "# Đọc một ảnh (nhan TAB de nhin autocomplete)\n",
    "path= 'C:/Users/ADMIN/Pictures/MEME/doremon.jpg'\n",
    "img = cv2.imread(path)\n",
    "# In thông tin của ảnh\n",
    "print(img)"
   ]
  },
  {
   "cell_type": "code",
   "execution_count": 34,
   "id": "55314c4b-d12e-4057-aa72-c60185233a86",
   "metadata": {},
   "outputs": [
    {
     "name": "stdout",
     "output_type": "stream",
     "text": [
      "(612, 600, 3)\n",
      "612\n",
      "600\n",
      "3\n"
     ]
    }
   ],
   "source": [
    "# Lấy kích thước\n",
    "print(img.shape)\n",
    "x, y, z = img.shape\n",
    "print(x)\n",
    "print(y)\n",
    "print(z)"
   ]
  },
  {
   "cell_type": "code",
   "execution_count": 35,
   "id": "c21b4b50-06ad-478b-88ad-4775da8823c0",
   "metadata": {},
   "outputs": [],
   "source": [
    "# Hiển thị ảnh\n",
    "cv2.imshow('Window', img)\n",
    "# Chờ một khoảng thời gian\n",
    "cv2.waitKey(10000)\n",
    "# Đóng window\n",
    "cv2.destroyWindow('Window')"
   ]
  },
  {
   "cell_type": "code",
   "execution_count": 36,
   "id": "70577108-36f1-4fa9-b0d9-1b2066fdc293",
   "metadata": {},
   "outputs": [],
   "source": [
    "# Tách màu\n",
    "b, g, r = cv2.split(img)\n",
    "cv2.imshow('Window', img)\n",
    "cv2.imshow('Red', r)\n",
    "cv2.imshow('Green', g)\n",
    "cv2.imshow('Blue', b)\n",
    "\n",
    "# Chờ một khoảng thời gian\n",
    "cv2.waitKey(0)\n",
    "# Đóng window\n",
    "cv2.destroyAllWindows()"
   ]
  },
  {
   "cell_type": "code",
   "execution_count": 37,
   "id": "502120a2-fc8b-4a45-afe5-520c1e49bd9b",
   "metadata": {},
   "outputs": [],
   "source": [
    "gray_img = cv2.cvtColor(img, cv2.COLOR_BGR2GRAY)\n",
    "img_2 = cv2.cvtColor(img, cv2.COLOR_BGR2RGB)\n",
    "cv2.imshow('Window', img)\n",
    "cv2.imshow('gray_img', gray_img)\n",
    "cv2.imshow('img_2', img_2)\n",
    "# Chờ một khoảng thời gian\n",
    "cv2.waitKey(0)\n",
    "# Đóng window\n",
    "cv2.destroyAllWindows()"
   ]
  },
  {
   "cell_type": "code",
   "execution_count": null,
   "id": "713c9a7a-8c86-4e88-9e3a-6c2bdd05c93a",
   "metadata": {},
   "outputs": [],
   "source": [
    "# Thay đổi thông số của điểm ảnh\n",
    "height, width, z = img.shape\n",
    "quater_h = height/2\n",
    "quater_w = width/2\n",
    "\n",
    "# geen color\n",
    "green_color = (0,255,0)\n",
    "\n",
    "# copy ảnh\n",
    "img2 = img.copy()\n",
    "\n",
    "# thay đổi màu của góc 1/4 bên trái trên\n",
    "\n",
    "for y in range(int(quater_h)):\n",
    "    for x in range(int(quater_w)):\n",
    "        img2[y, x] = green_color\n",
    "# Hiển thị\n",
    "display('Window', img)\n",
    "display('Window-2', img2)"
   ]
  },
  {
   "cell_type": "code",
   "execution_count": null,
   "id": "fdd56723-3a14-4967-90c6-98f64f8f9917",
   "metadata": {},
   "outputs": [],
   "source": []
  },
  {
   "cell_type": "code",
   "execution_count": null,
   "id": "655294b1-c3aa-4447-8937-c8cc86fa1b30",
   "metadata": {},
   "outputs": [],
   "source": []
  }
 ],
 "metadata": {
  "kernelspec": {
   "display_name": "Python 3 (ipykernel)",
   "language": "python",
   "name": "python3"
  },
  "language_info": {
   "codemirror_mode": {
    "name": "ipython",
    "version": 3
   },
   "file_extension": ".py",
   "mimetype": "text/x-python",
   "name": "python",
   "nbconvert_exporter": "python",
   "pygments_lexer": "ipython3",
   "version": "3.12.4"
  }
 },
 "nbformat": 4,
 "nbformat_minor": 5
}
