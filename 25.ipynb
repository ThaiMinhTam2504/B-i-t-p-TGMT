{
 "cells": [
  {
   "cell_type": "code",
   "execution_count": 1,
   "id": "d9917fae-732e-465f-82dd-dc0f5b8034f6",
   "metadata": {},
   "outputs": [],
   "source": [
    "import cv2"
   ]
  },
  {
   "cell_type": "code",
   "execution_count": 2,
   "id": "6cdcc862-02fa-4387-9e1b-140bcfa9740c",
   "metadata": {},
   "outputs": [],
   "source": [
    "def display(title, img):\n",
    "    cv2.imshow(title, img)\n",
    "    # Chờ một khoảng thời gian\n",
    "    cv2.waitKey(0)\n",
    "    # Đóng window\n",
    "    cv2.destroyWindow(title)"
   ]
  },
  {
   "cell_type": "code",
   "execution_count": 3,
   "id": "617cc9ca-146b-4077-b032-0bc01e572091",
   "metadata": {},
   "outputs": [],
   "source": [
    "# Khởi tạo Haar Cascade Classifier cho nhân diện khuôn mặt\n",
    "face_cascade = cv2.CascadeClassifier('./Data/haarcascade_frontalface_default.xml')\n",
    "eye_cascade = cv2.CascadeClassifier('./Data/haarcascade_eye_tree_eyeglasses.xml')"
   ]
  },
  {
   "cell_type": "code",
   "execution_count": 4,
   "id": "1eeed631-f885-41a2-8c51-7585389c22de",
   "metadata": {},
   "outputs": [],
   "source": [
    "# Đọc ảnh\n",
    "img = cv2.imread('C:/hoc tap/nam4hocki1/TGMT/Anh/image_60.jpg')"
   ]
  },
  {
   "cell_type": "code",
   "execution_count": 5,
   "id": "b08cd0a3-396e-46f8-aeb8-f2475ad21ba6",
   "metadata": {},
   "outputs": [],
   "source": [
    "# Chuyển sang ảnh xám\n",
    "gray = cv2.cvtColor(img, cv2.COLOR_BGR2GRAY)"
   ]
  },
  {
   "cell_type": "code",
   "execution_count": 6,
   "id": "b8a289ab-099c-4264-b91d-ac3a30333852",
   "metadata": {},
   "outputs": [],
   "source": [
    "# Nhận diện khuôn mặt\n",
    "faces = face_cascade.detectMultiScale(gray, scaleFactor=1.1, minNeighbors=5, minSize=(30,30))"
   ]
  },
  {
   "cell_type": "code",
   "execution_count": 7,
   "id": "e0372b39-1a6d-496d-90d3-379ca86e2962",
   "metadata": {},
   "outputs": [],
   "source": [
    "# Nhận diện mắt\n",
    "eyes = eye_cascade.detectMultiScale(gray, scaleFactor=1.1, minNeighbors=1, minSize=(5,5))"
   ]
  },
  {
   "cell_type": "code",
   "execution_count": 8,
   "id": "dacb1d23-f41a-44db-a408-65e49ce6044e",
   "metadata": {},
   "outputs": [],
   "source": [
    "# Vẽ hộp chứa khuôn mặt\n",
    "for (x, y, w, h) in faces:\n",
    "    cv2.rectangle(img, (x, y), (x+w, y+h), (0, 255,0), 2)"
   ]
  },
  {
   "cell_type": "code",
   "execution_count": 9,
   "id": "bb3fdfcd-2842-4c32-88f0-1aa8a5a72c09",
   "metadata": {},
   "outputs": [],
   "source": [
    "# Vẽ hộp chứa khuôn mặt\n",
    "for (x, y, w, h) in eyes:\n",
    "    cv2.rectangle(img, (x, y), (x+w, y+h), (255, 0,0), 2)"
   ]
  },
  {
   "cell_type": "code",
   "execution_count": 10,
   "id": "b4f74ef9-60c3-4361-95ff-bf61f5adbbaf",
   "metadata": {},
   "outputs": [],
   "source": [
    "display('Faces: ', img)"
   ]
  },
  {
   "cell_type": "code",
   "execution_count": null,
   "id": "6d312076-b317-4fea-9e19-7b8ca4f92281",
   "metadata": {},
   "outputs": [],
   "source": []
  }
 ],
 "metadata": {
  "kernelspec": {
   "display_name": "Python 3 (ipykernel)",
   "language": "python",
   "name": "python3"
  },
  "language_info": {
   "codemirror_mode": {
    "name": "ipython",
    "version": 3
   },
   "file_extension": ".py",
   "mimetype": "text/x-python",
   "name": "python",
   "nbconvert_exporter": "python",
   "pygments_lexer": "ipython3",
   "version": "3.12.4"
  }
 },
 "nbformat": 4,
 "nbformat_minor": 5
}
