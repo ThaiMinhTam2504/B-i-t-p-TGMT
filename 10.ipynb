{
 "cells": [
  {
   "cell_type": "code",
   "execution_count": 1,
   "id": "4420aed9-b522-43ff-8fd0-c9e387d1f6cf",
   "metadata": {},
   "outputs": [],
   "source": [
    "#Import thư viện\n",
    "from PIL import Image\n",
    "import matplotlib.pyplot as plt"
   ]
  },
  {
   "cell_type": "code",
   "execution_count": 2,
   "id": "b90d8062-99c0-498e-acab-9fad5e6850e3",
   "metadata": {},
   "outputs": [
    {
     "name": "stdout",
     "output_type": "stream",
     "text": [
      "[(373.95887445887445, 220.2792207792208), (288.461038961039, 202.96320346320346), (344.7380952380953, 235.43073593073598), (260.3225108225108, 391.2748917748918), (350.1493506493507, 280.8852813852814)]\n"
     ]
    }
   ],
   "source": [
    "my_path= 'C:/Users/ADMIN/Pictures/MEME/naruto.jpg'\n",
    "img=Image.open(my_path)\n",
    "#chuyển đổi backend\n",
    "plt.switch_backend('tkagg')\n",
    "#hiển thị ảnh\n",
    "plt.imshow(img)\n",
    "plt.title(\"Click on image to select point\")\n",
    "# sử dụng hàm ginput để chọn điểm trên ảnh\n",
    "points=plt.ginput(5)\n",
    "print(points)\n",
    "plt.show()"
   ]
  },
  {
   "cell_type": "code",
   "execution_count": null,
   "id": "6b6b60ab-3a5d-46b4-bd86-391b0dd1651e",
   "metadata": {},
   "outputs": [],
   "source": [
    "#vẽ lại các điểm đã chọn bằng dấu * màu đỏ\n",
    "plt.close()\n",
    "#vẽ lại\n",
    "plt.imshow(img)\n",
    "for point in points:\n",
    "    x,y = point\n",
    "    plt.plot(x,y, \"r*\")\n",
    "\n",
    "plt.show()\n",
    "    "
   ]
  },
  {
   "cell_type": "code",
   "execution_count": null,
   "id": "c0c07b38-c67a-453b-ac1a-20f4c3ce87a4",
   "metadata": {},
   "outputs": [],
   "source": []
  }
 ],
 "metadata": {
  "kernelspec": {
   "display_name": "Python 3 (ipykernel)",
   "language": "python",
   "name": "python3"
  },
  "language_info": {
   "codemirror_mode": {
    "name": "ipython",
    "version": 3
   },
   "file_extension": ".py",
   "mimetype": "text/x-python",
   "name": "python",
   "nbconvert_exporter": "python",
   "pygments_lexer": "ipython3",
   "version": "3.12.4"
  }
 },
 "nbformat": 4,
 "nbformat_minor": 5
}
